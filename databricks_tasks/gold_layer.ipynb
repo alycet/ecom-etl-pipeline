{
 "cells": [
  {
   "cell_type": "code",
   "execution_count": 0,
   "metadata": {
    "application/vnd.databricks.v1+cell": {
     "cellMetadata": {
      "byteLimit": 2048000,
      "rowLimit": 10000
     },
     "inputWidgets": {},
     "nuid": "8cf5bc77-4e33-49c3-8c7a-9d108945d72b",
     "showTitle": false,
     "tableResultSettingsMap": {},
     "title": ""
    }
   },
   "outputs": [],
   "source": [
    "from pyspark.sql import SparkSession\n",
    "from pyspark.sql.functions import *"
   ]
  },
  {
   "cell_type": "code",
   "execution_count": 0,
   "metadata": {
    "application/vnd.databricks.v1+cell": {
     "cellMetadata": {
      "byteLimit": 2048000,
      "rowLimit": 10000
     },
     "inputWidgets": {},
     "nuid": "d3c46f84-fe74-4420-9dc3-bdf512a73818",
     "showTitle": false,
     "tableResultSettingsMap": {},
     "title": ""
    }
   },
   "outputs": [],
   "source": [
    "spark = SparkSession.builder.appName(\"GoldLayerCreation\").getOrCreate()"
   ]
  },
  {
   "cell_type": "code",
   "execution_count": 0,
   "metadata": {
    "application/vnd.databricks.v1+cell": {
     "cellMetadata": {
      "byteLimit": 2048000,
      "rowLimit": 10000
     },
     "inputWidgets": {},
     "nuid": "dabfb195-2502-4277-acd3-22fdaac16928",
     "showTitle": false,
     "tableResultSettingsMap": {},
     "title": ""
    }
   },
   "outputs": [],
   "source": [
    "# Read all silver layer tables\n",
    "silver_sellers = spark.read.format(\"delta\").load(\"/mnt/delta/tables/silver/sellers\")\n",
    "silver_buyers = spark.read.format(\"delta\").load(\"/mnt/delta/tables/silver/buyers\")\n",
    "silver_users = spark.read.format(\"delta\").load(\"/mnt/delta/tables/silver/users\")\n",
    "silver_countries = spark.read.format(\"delta\").load(\"/mnt/delta/tables/silver/countries\")"
   ]
  },
  {
   "cell_type": "code",
   "execution_count": 0,
   "metadata": {
    "application/vnd.databricks.v1+cell": {
     "cellMetadata": {
      "byteLimit": 2048000,
      "rowLimit": 10000
     },
     "inputWidgets": {},
     "nuid": "f75a3bb0-abba-49f6-a5a1-c3be50c25e2e",
     "showTitle": false,
     "tableResultSettingsMap": {},
     "title": ""
    }
   },
   "outputs": [],
   "source": [
    "#Perform join operations to create one big table\n",
    "comprehensive_user_table = silver_users \\\n",
    "    .join(silver_countries, [\"country\"], \"outer\") \\\n",
    "    .join(silver_buyers, ['country'], \"outer\") \\\n",
    "    .join(silver_sellers, [\"country\"], \"outer\")"
   ]
  },
  {
   "cell_type": "code",
   "execution_count": 0,
   "metadata": {
    "application/vnd.databricks.v1+cell": {
     "cellMetadata": {
      "byteLimit": 2048000,
      "rowLimit": 10000
     },
     "inputWidgets": {},
     "nuid": "34c8abec-b38b-4ba3-b761-a66039fd08b4",
     "showTitle": false,
     "tableResultSettingsMap": {},
     "title": ""
    }
   },
   "outputs": [],
   "source": [
    "comprehensive_user_table = comprehensive_user_table.select(\n",
    "    \n",
    "    # From silver layer countries table\n",
    "    silver_countries[\"sellers\"].alias(\"countries_sellers\"),\n",
    "    silver_countries[\"topsellers\"].alias(\"countries_topsellers\"),\n",
    "    silver_countries[\"topsellerratio\"].alias(\"countries_topsellerratio\"),\n",
    "    silver_countries[\"femalesellersratio\"].alias(\"countries_femalesellersratio\"),\n",
    "    silver_countries[\"topfemalesellersratio\"].alias(\"countries_topfemalesellersratio\"),\n",
    "    silver_countries[\"femalesellers\"].alias(\"countries_femalesellers\"),\n",
    "    silver_countries[\"malesellers\"].alias(\"countries_malesellers\"),\n",
    "    silver_countries[\"topfemalesellers\"].alias(\"countries_topfemalesellers\"),\n",
    "    silver_countries[\"topmalesellers\"].alias(\"countries_topmalesellers\"),\n",
    "    silver_countries[\"bestsoldratio\"].alias(\"countries_bestsoldratio\"),\n",
    "    silver_countries[\"toptotalproductssold\"].alias(\"countries_toptotalproductssold\"),\n",
    "    silver_countries[\"totalproductssold\"].alias(\"countries_totalproductssold\"),\n",
    "    silver_countries[\"toptotalproductslisted\"].alias(\"countries_toptotalproductslisted\"),\n",
    "    silver_countries[\"totalproductslisted\"].alias(\"countries_totalproductslisted\"),\n",
    "    silver_countries[\"topmeanproductssold\"].alias(\"countries_topmeanproductssold\"),\n",
    "    silver_countries[\"topmeanproductslisted\"].alias(\"countries_topmeanproductslisted\"),\n",
    "    silver_countries[\"meanproductssold\"].alias(\"countries_meanproductssold\"),\n",
    "    silver_countries[\"meanproductslisted\"].alias(\"countries_meanproductslisted\"),\n",
    "    silver_countries[\"meanofflinedays\"].alias(\"countries_meanofflinedays\"),\n",
    "    silver_countries[\"topmeanofflinedays\"].alias(\"countries_topmeanofflinedays\"),\n",
    "    silver_countries[\"meanfollowers\"].alias(\"countries_meanfollowers\"),\n",
    "    silver_countries[\"meanfollowing\"].alias(\"countries_meanfollowing\"),\n",
    "    silver_countries[\"topmeanfollowers\"].alias(\"countries_topmeanfollowers\"),\n",
    "    silver_countries[\"topmeanfollowing\"].alias(\"countries_topmeanfollowing\"),\n",
    "    silver_countries[\"performance_indicator\"].alias(\"countries_performance_indicator\"),\n",
    "    silver_countries[\"high_performance\"].alias(\"countries_high_performance\"),\n",
    "    silver_countries[\"activity_level\"].alias(\"countries_activity_level\"),\n",
    "\n",
    "    # From silver layer users table\n",
    "    silver_users[\"identifierHash\"].alias(\"users_identifierHash\"),\n",
    "    silver_users[\"type\"].alias(\"users_type\"),\n",
    "    silver_users[\"country\"].alias(\"users_country\"),\n",
    "    silver_users[\"language\"].alias(\"users_language\"),\n",
    "    silver_users[\"socialnbfollowers\"].alias(\"users_socialnbfollowers\"),\n",
    "    silver_users[\"socialnbfollows\"].alias(\"users_socialnbfollows\"),\n",
    "    silver_users[\"socialProductsLiked\"].alias(\"users_socialProductsLiked\"),\n",
    "    silver_users[\"productsListed\"].alias(\"users_productsListed\"),\n",
    "    silver_users[\"productsSold\"].alias(\"users_productsSold\"),\n",
    "    silver_users[\"productspassrate\"].alias(\"users_productspassrate\"),\n",
    "    silver_users[\"productsWished\"].alias(\"users_productsWished\"),\n",
    "    silver_users[\"productsBought\"].alias(\"users_productsBought\"),\n",
    "    silver_users[\"gender\"].alias(\"users_gender\"),\n",
    "    silver_users[\"civilityGenderId\"].alias(\"users_civilityGenderId\"),\n",
    "    silver_users[\"civilityTitle\"].alias(\"users_civilityTitle\"),\n",
    "    silver_users[\"hasanyapp\"].alias(\"users_hasanyapp\"),\n",
    "    silver_users[\"hasandroidapp\"].alias(\"users_hasandroidapp\"),\n",
    "    silver_users[\"hasiosapp\"].alias(\"users_hasiosapp\"),\n",
    "    silver_users[\"hasprofilepicture\"].alias(\"users_hasprofilepicture\"),\n",
    "    silver_users[\"dayssincelastlogin\"].alias(\"users_dayssincelastlogin\"),\n",
    "    silver_users[\"seniority\"].alias(\"users_seniority\"),\n",
    "    silver_users[\"seniorityasmonths\"].alias(\"users_seniorityasmonths\"),\n",
    "    silver_users[\"seniorityasyears\"].alias(\"users_seniorityasyears\"),\n",
    "    silver_users[\"countrycode\"].alias(\"users_countrycode\"),\n",
    "    silver_users[\"language_full\"].alias(\"users_language_full\"),\n",
    "    silver_users[\"civilitytitle_clean\"].alias(\"users_civilitytitle_clean\"),\n",
    "    silver_users[\"years_since_last_login\"].alias(\"users_years_since_last_login\"),\n",
    "    silver_users[\"account_age_years\"].alias(\"users_account_age_years\"),\n",
    "    silver_users[\"account_age_group\"].alias(\"users_account_age_group\"),\n",
    "    silver_users[\"current_year\"].alias(\"users_current_year\"),\n",
    "\n",
    "    # From silver layer sellers table\n",
    "    silver_sellers['country'].alias('sellers_country'),\n",
    "    silver_sellers['sex'].alias('sellers_gender'),\n",
    "    silver_sellers['meanproductslisted'].alias('sellers_meanproductslisted'),\n",
    "    silver_sellers['meansellerpassrate'].alias('sellers_meansellerpassrate'),\n",
    "    silver_sellers['totalproductssold'].alias('sellers_totalproductssold'),\n",
    "    silver_sellers['totalproductslisted'].alias('sellers_totalproductslisted'),\n",
    "    silver_sellers['meanproductsbought'].alias('sellers_meanproductsbought'),\n",
    "    silver_sellers['meanproductswished'].alias('sellers_meanproductswished'),\n",
    "    silver_sellers['meanproductsliked'].alias('sellers_meanproductsliked'),\n",
    "    silver_sellers['totalbought'].alias('sellers_totalbought'),\n",
    "    silver_sellers['totalwished'].alias('sellers_totalwished'),\n",
    "    silver_sellers['totalproductsliked'].alias('sellers_totalproductsliked'),\n",
    "    silver_sellers['meanfollowers'].alias('sellers_meanfollowers'),\n",
    "    silver_sellers['meanfollows'].alias('sellers_meanfollows'),\n",
    "    silver_sellers['percentofappusers'].alias('sellers_percentofappusers'),\n",
    "    silver_sellers['percentofiosusers'].alias('sellers_percentofiosusers'),\n",
    "    silver_sellers['meanseniority'].alias('sellers_meanseniority'),\n",
    "    silver_sellers['mean_products_listed'].alias('sellers_mean_products_listed'),\n",
    "\n",
    "    # From silver layers buyers table\n",
    "    silver_buyers['country'].alias('buyers_country'),\n",
    "    silver_buyers['topbuyers'].alias('buyers_top'),\n",
    "    silver_buyers['topbuyerratio'].alias('buyers_topratio'),\n",
    "    silver_buyers['femalebuyers'].alias('buyers_femalebuyers'),\n",
    "    silver_buyers['malebuyers'].alias('buyers_malebuyers'),\n",
    "    silver_buyers['topfemalebuyers'].alias('buyers_topfemale'),\n",
    "    silver_buyers['topmalebuyers'].alias('buyers_topmale'),\n",
    "    silver_buyers['femalebuyersratio'].alias('buyers_femaleratio'),\n",
    "    silver_buyers['topfemalebuyersratio'].alias('buyers_topfemaleratio'),\n",
    "    silver_buyers['boughtperwishlistratio'].alias('buyers_boughtperwishlistratio'),\n",
    "    silver_buyers['boughtperlikeratio'].alias('buyers_boughtperlikeratio'),\n",
    "    silver_buyers['topboughtperwishlistratio'].alias('buyers_topperwishlistratio'),\n",
    "    silver_buyers['topboughtperlikeratio'].alias('buyers_topperlikeratio'),\n",
    "    silver_buyers['totalproductsbought'].alias('buyers_totalproducts'),\n",
    "    silver_buyers['totalproductswished'].alias('buyers_totalproductswished'),\n",
    "    silver_buyers['totalproductsliked'].alias('buyers_totalproductsliked'),\n",
    "    silver_buyers['toptotalproductsbought'].alias('buyers_toptotalproducts'),\n",
    "    silver_buyers['toptotalproductswished'].alias('buyers_toptotalproductswished'),\n",
    "    silver_buyers['toptotalproductsliked'].alias('buyers_toptotalproductsliked'),\n",
    "    silver_buyers['meanproductsbought'].alias('buyers_meanproducts'),\n",
    "    silver_buyers['meanproductswished'].alias('buyers_meanproductswished'),\n",
    "    silver_buyers['meanproductsliked'].alias('buyers_meanproductsliked'),\n",
    "    silver_buyers['topmeanproductsbought'].alias('buyers_topmeanproducts'),\n",
    "    silver_buyers['topmeanproductswished'].alias('buyers_topmeanproductswished'),\n",
    "    silver_buyers['topmeanproductsliked'].alias('buyers_topmeanproductsliked'),\n",
    "    silver_buyers['meanofflinedays'].alias('buyers_meanofflinedays'),\n",
    "    silver_buyers['topmeanofflinedays'].alias('buyers_topmeanofflinedays'),\n",
    "    silver_buyers['meanfollowers'].alias('buyers_meanfollowers'),\n",
    "    silver_buyers['meanfollowing'].alias('buyers_meanfollowing'),\n",
    "    silver_buyers['topmeanfollowers'].alias('buyers_topmeanfollowers'),\n",
    "    silver_buyers['topmeanfollowing'].alias('buyers_topmeanfollowing'),\n",
    "    silver_buyers['female_to_make_ratio'].alias('buyers_female_to_make_ratio'),\n",
    "    silver_buyers['wishlist_to_purchase_ratio'].alias('buyers_wishlist_to_purchase_ratio'),\n",
    "    silver_buyers['high_engagement'].alias('buyers_high_engagement'),\n",
    "\n",
    "\n",
    ")\n",
    "\n",
    "\n"
   ]
  },
  {
   "cell_type": "code",
   "execution_count": 0,
   "metadata": {
    "application/vnd.databricks.v1+cell": {
     "cellMetadata": {
      "byteLimit": 2048000,
      "rowLimit": 10000
     },
     "inputWidgets": {},
     "nuid": "7d563a26-b4f7-45c6-a09b-609057a62611",
     "showTitle": false,
     "tableResultSettingsMap": {},
     "title": ""
    }
   },
   "outputs": [],
   "source": [
    "# write delta table to gold layer\n",
    "comprehensive_user_table.write.format(\"delta\").mode(\"overwrite\").save(\"/mnt/delta/tables/gold/\")"
   ]
  },
  {
   "cell_type": "code",
   "execution_count": 0,
   "metadata": {
    "application/vnd.databricks.v1+cell": {
     "cellMetadata": {
      "byteLimit": 2048000,
      "rowLimit": 10000
     },
     "inputWidgets": {},
     "nuid": "2362f09f-5a0d-4d2b-9f61-861f3f2cad2b",
     "showTitle": false,
     "tableResultSettingsMap": {},
     "title": ""
    }
   },
   "outputs": [
    {
     "output_type": "execute_result",
     "data": {
      "text/plain": [
       "[FileInfo(path='abfss://landing-zone-2@ecomadlsalyce.dfs.core.windows.net/buyers-raw-2/', name='buyers-raw-2/', size=0, modificationTime=1738256118000),\n",
       " FileInfo(path='abfss://landing-zone-2@ecomadlsalyce.dfs.core.windows.net/countries-raw-2/', name='countries-raw-2/', size=0, modificationTime=1738256132000),\n",
       " FileInfo(path='abfss://landing-zone-2@ecomadlsalyce.dfs.core.windows.net/processed-users-raw-2/', name='processed-users-raw-2/', size=0, modificationTime=1738604918000),\n",
       " FileInfo(path='abfss://landing-zone-2@ecomadlsalyce.dfs.core.windows.net/sellers-raw-2/', name='sellers-raw-2/', size=0, modificationTime=1738256125000),\n",
       " FileInfo(path='abfss://landing-zone-2@ecomadlsalyce.dfs.core.windows.net/to-process-users-raw-2/', name='to-process-users-raw-2/', size=0, modificationTime=1738256110000)]"
      ]
     },
     "execution_count": 25,
     "metadata": {},
     "output_type": "execute_result"
    }
   ],
   "source": [
    "#move user data from 'to_process' to 'processed' in azure data lake\n",
    "#spark.conf.set(\"fs.azure.account.key.ecomadlsalyce.dfs.core.windows.net\", #'Z2POLXsOZpax9W5HfcPyuqarEUocsnJwL0RM4ZAmdpheapyUDT4fdSsCDKphRSAJuFIH9rh3YMEH+AStJlpJhA==')\n",
    "#dbutils.fs.ls(\"abfss://landing-zone-2@ecomadlsalyce.dfs.core.windows.net\")\n"
   ]
  },
  {
   "cell_type": "code",
   "execution_count": 0,
   "metadata": {
    "application/vnd.databricks.v1+cell": {
     "cellMetadata": {
      "byteLimit": 2048000,
      "rowLimit": 10000
     },
     "inputWidgets": {},
     "nuid": "0b12e0a5-91f6-441c-aaef-eb85876cf9f4",
     "showTitle": false,
     "tableResultSettingsMap": {},
     "title": ""
    }
   },
   "outputs": [
    {
     "output_type": "execute_result",
     "data": {
      "text/plain": [
       "True"
      ]
     },
     "execution_count": 27,
     "metadata": {},
     "output_type": "execute_result"
    }
   ],
   "source": [
    "dbutils.fs.mv('abfss://landing-zone-2@ecomadlsalyce.dfs.core.windows.net/to-process-users-raw-2/' , 'abfss://landing-zone-2@ecomadlsalyce.dfs.core.windows.net/processed-users-raw-2/', recurse = True)"
   ]
  },
  {
   "cell_type": "code",
   "execution_count": 0,
   "metadata": {
    "application/vnd.databricks.v1+cell": {
     "cellMetadata": {
      "byteLimit": 2048000,
      "implicitDf": true,
      "rowLimit": 10000
     },
     "inputWidgets": {},
     "nuid": "dede7aca-0ca4-453c-80be-ded35278c2bb",
     "showTitle": false,
     "tableResultSettingsMap": {},
     "title": ""
    }
   },
   "outputs": [
    {
     "output_type": "display_data",
     "data": {
      "text/html": [
       "<style scoped>\n",
       "  .table-result-container {\n",
       "    max-height: 300px;\n",
       "    overflow: auto;\n",
       "  }\n",
       "  table, th, td {\n",
       "    border: 1px solid black;\n",
       "    border-collapse: collapse;\n",
       "  }\n",
       "  th, td {\n",
       "    padding: 5px;\n",
       "  }\n",
       "  th {\n",
       "    text-align: left;\n",
       "  }\n",
       "</style><div class='table-result-container'><table class='table-result'><thead style='background-color: white'><tr><th>num_affected_rows</th><th>num_inserted_rows</th></tr></thead><tbody></tbody></table></div>"
      ]
     },
     "metadata": {
      "application/vnd.databricks.v1+output": {
       "addedWidgets": {},
       "aggData": [],
       "aggError": "",
       "aggOverflow": false,
       "aggSchema": [],
       "aggSeriesLimitReached": false,
       "aggType": "",
       "arguments": {},
       "columnCustomDisplayInfos": {},
       "data": [],
       "datasetInfos": [],
       "dbfsResultPath": null,
       "isJsonSchema": true,
       "metadata": {
        "createTempViewForImplicitDf": true,
        "dataframeName": "_sqldf",
        "executionCount": 29
       },
       "overflow": false,
       "plotOptions": {
        "customPlotOptions": {},
        "displayType": "table",
        "pivotAggregation": null,
        "pivotColumns": null,
        "xColumns": null,
        "yColumns": null
       },
       "removedWidgets": [],
       "schema": [
        {
         "metadata": "{}",
         "name": "num_affected_rows",
         "type": "\"long\""
        },
        {
         "metadata": "{}",
         "name": "num_inserted_rows",
         "type": "\"long\""
        }
       ],
       "type": "table"
      }
     },
     "output_type": "display_data"
    }
   ],
   "source": [
    "\n",
    "%sql\n",
    "--Creating database delta table for analytics\n",
    "CREATE DATABASE IF NOT EXISTS comp_user;\n",
    "\n",
    "USE comp_user;\n",
    "\n",
    "CREATE OR REPLACE TEMP VIEW comprehensive_user_view\n",
    "AS SELECT * FROM delta.`/mnt/delta/tables/gold`; \n",
    "\n",
    "CREATE OR REPLACE TABLE comprehensive_user_data\n",
    "USING DELTA \n",
    "AS SELECT * FROM comprehensive_user_view;"
   ]
  },
  {
   "cell_type": "code",
   "execution_count": 0,
   "metadata": {
    "application/vnd.databricks.v1+cell": {
     "cellMetadata": {},
     "inputWidgets": {},
     "nuid": "9bce0112-616c-43e5-96fb-257f29bcb2cb",
     "showTitle": false,
     "tableResultSettingsMap": {},
     "title": ""
    }
   },
   "outputs": [],
   "source": []
  }
 ],
 "metadata": {
  "application/vnd.databricks.v1+notebook": {
   "computePreferences": null,
   "dashboards": [],
   "environmentMetadata": {
    "base_environment": "",
    "client": "1"
   },
   "language": "python",
   "notebookMetadata": {
    "mostRecentlyExecutedCommandWithImplicitDF": {
     "commandId": 7508129722794820,
     "dataframes": [
      "_sqldf"
     ]
    },
    "pythonIndentUnit": 4
   },
   "notebookName": "gold_layer",
   "widgets": {}
  },
  "language_info": {
   "name": "python"
  }
 },
 "nbformat": 4,
 "nbformat_minor": 0
}
